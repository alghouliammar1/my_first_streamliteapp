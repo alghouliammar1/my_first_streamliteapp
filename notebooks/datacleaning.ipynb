{
 "cells": [
  {
   "cell_type": "code",
   "execution_count": 1,
   "metadata": {},
   "outputs": [],
   "source": [
    "import plotly.express as px\n",
    "import pandas as pd\n",
    "import json"
   ]
  },
  {
   "cell_type": "code",
   "execution_count": 4,
   "metadata": {},
   "outputs": [],
   "source": [
    "geo_data=\"\"\n",
    "with open(\"../data/raw/countries.geojson\", \"r\") as f:\n",
    "    geojson=json.load(f)\n",
    "# geojson = json.load(\"./countries.geojson\")\n",
    "ds = pd.read_csv('../data/raw/share-of-individuals-using-the-internet.csv')"
   ]
  },
  {
   "cell_type": "code",
   "execution_count": 5,
   "metadata": {},
   "outputs": [
    {
     "data": {
      "text/html": [
       "<div>\n",
       "<style scoped>\n",
       "    .dataframe tbody tr th:only-of-type {\n",
       "        vertical-align: middle;\n",
       "    }\n",
       "\n",
       "    .dataframe tbody tr th {\n",
       "        vertical-align: top;\n",
       "    }\n",
       "\n",
       "    .dataframe thead th {\n",
       "        text-align: right;\n",
       "    }\n",
       "</style>\n",
       "<table border=\"1\" class=\"dataframe\">\n",
       "  <thead>\n",
       "    <tr style=\"text-align: right;\">\n",
       "      <th></th>\n",
       "      <th>Entity</th>\n",
       "      <th>Code</th>\n",
       "      <th>Year</th>\n",
       "      <th>Individuals using the Internet (% of population)</th>\n",
       "    </tr>\n",
       "  </thead>\n",
       "  <tbody>\n",
       "    <tr>\n",
       "      <th>6048</th>\n",
       "      <td>South Korea</td>\n",
       "      <td>KOR</td>\n",
       "      <td>1993</td>\n",
       "      <td>0.249947</td>\n",
       "    </tr>\n",
       "    <tr>\n",
       "      <th>2913</th>\n",
       "      <td>IDA &amp; IBRD total</td>\n",
       "      <td>NaN</td>\n",
       "      <td>2011</td>\n",
       "      <td>23.404839</td>\n",
       "    </tr>\n",
       "    <tr>\n",
       "      <th>3718</th>\n",
       "      <td>Liberia</td>\n",
       "      <td>LBR</td>\n",
       "      <td>1997</td>\n",
       "      <td>0.004489</td>\n",
       "    </tr>\n",
       "    <tr>\n",
       "      <th>1173</th>\n",
       "      <td>Chad</td>\n",
       "      <td>TCD</td>\n",
       "      <td>2010</td>\n",
       "      <td>1.700000</td>\n",
       "    </tr>\n",
       "    <tr>\n",
       "      <th>2953</th>\n",
       "      <td>IDA only</td>\n",
       "      <td>NaN</td>\n",
       "      <td>1997</td>\n",
       "      <td>0.014040</td>\n",
       "    </tr>\n",
       "    <tr>\n",
       "      <th>1490</th>\n",
       "      <td>Czechia</td>\n",
       "      <td>CZE</td>\n",
       "      <td>2006</td>\n",
       "      <td>47.930000</td>\n",
       "    </tr>\n",
       "    <tr>\n",
       "      <th>5587</th>\n",
       "      <td>Samoa</td>\n",
       "      <td>WSM</td>\n",
       "      <td>1995</td>\n",
       "      <td>0.000000</td>\n",
       "    </tr>\n",
       "    <tr>\n",
       "      <th>6290</th>\n",
       "      <td>Sweden</td>\n",
       "      <td>SWE</td>\n",
       "      <td>2005</td>\n",
       "      <td>84.830000</td>\n",
       "    </tr>\n",
       "    <tr>\n",
       "      <th>2788</th>\n",
       "      <td>Honduras</td>\n",
       "      <td>HND</td>\n",
       "      <td>2002</td>\n",
       "      <td>2.597403</td>\n",
       "    </tr>\n",
       "    <tr>\n",
       "      <th>6589</th>\n",
       "      <td>Turkey</td>\n",
       "      <td>TUR</td>\n",
       "      <td>1999</td>\n",
       "      <td>2.292118</td>\n",
       "    </tr>\n",
       "    <tr>\n",
       "      <th>4519</th>\n",
       "      <td>Mozambique</td>\n",
       "      <td>MOZ</td>\n",
       "      <td>2001</td>\n",
       "      <td>0.160032</td>\n",
       "    </tr>\n",
       "    <tr>\n",
       "      <th>4541</th>\n",
       "      <td>Myanmar</td>\n",
       "      <td>MMR</td>\n",
       "      <td>1995</td>\n",
       "      <td>0.000000</td>\n",
       "    </tr>\n",
       "  </tbody>\n",
       "</table>\n",
       "</div>"
      ],
      "text/plain": [
       "                Entity Code  Year  \\\n",
       "6048       South Korea  KOR  1993   \n",
       "2913  IDA & IBRD total  NaN  2011   \n",
       "3718           Liberia  LBR  1997   \n",
       "1173              Chad  TCD  2010   \n",
       "2953          IDA only  NaN  1997   \n",
       "1490           Czechia  CZE  2006   \n",
       "5587             Samoa  WSM  1995   \n",
       "6290            Sweden  SWE  2005   \n",
       "2788          Honduras  HND  2002   \n",
       "6589            Turkey  TUR  1999   \n",
       "4519        Mozambique  MOZ  2001   \n",
       "4541           Myanmar  MMR  1995   \n",
       "\n",
       "      Individuals using the Internet (% of population)  \n",
       "6048                                          0.249947  \n",
       "2913                                         23.404839  \n",
       "3718                                          0.004489  \n",
       "1173                                          1.700000  \n",
       "2953                                          0.014040  \n",
       "1490                                         47.930000  \n",
       "5587                                          0.000000  \n",
       "6290                                         84.830000  \n",
       "2788                                          2.597403  \n",
       "6589                                          2.292118  \n",
       "4519                                          0.160032  \n",
       "4541                                          0.000000  "
      ]
     },
     "execution_count": 5,
     "metadata": {},
     "output_type": "execute_result"
    }
   ],
   "source": [
    "ds.sample(12)"
   ]
  },
  {
   "cell_type": "code",
   "execution_count": 9,
   "metadata": {},
   "outputs": [
    {
     "data": {
      "text/plain": [
       "dict_keys(['type', 'features'])"
      ]
     },
     "execution_count": 9,
     "metadata": {},
     "output_type": "execute_result"
    }
   ],
   "source": [
    "geojson.keys()"
   ]
  },
  {
   "cell_type": "markdown",
   "metadata": {},
   "source": [
    "we Rename the column form Individuals using the Internet (% of population) to Internet_usage"
   ]
  },
  {
   "cell_type": "code",
   "execution_count": 10,
   "metadata": {},
   "outputs": [],
   "source": [
    "ds.rename(columns={'Individuals using the Internet (% of population)':\"Internat_usage\"} ,inplace=True)"
   ]
  },
  {
   "cell_type": "markdown",
   "metadata": {},
   "source": [
    "we need to make sure that all countries have the same Name in the geodata as will in the dataset, otherwise we will get a mismatch between the geodata and the dataset. We can do this by renaming"
   ]
  },
  {
   "cell_type": "code",
   "execution_count": 11,
   "metadata": {},
   "outputs": [
    {
     "data": {
      "text/plain": [
       "{'ABW': 'Aruba',\n",
       " 'AFG': 'Afghanistan',\n",
       " 'AGO': 'Angola',\n",
       " 'AIA': 'Anguilla',\n",
       " 'ALB': 'Albania',\n",
       " 'ALA': 'Aland',\n",
       " 'AND': 'Andorra',\n",
       " 'ARE': 'United Arab Emirates',\n",
       " 'ARG': 'Argentina',\n",
       " 'ARM': 'Armenia',\n",
       " 'ASM': 'American Samoa',\n",
       " 'ATA': 'Antarctica',\n",
       " '-99': 'Akrotiri Sovereign Base Area',\n",
       " 'ATF': 'French Southern and Antarctic Lands',\n",
       " 'ATG': 'Antigua and Barbuda',\n",
       " 'AUS': 'Australia',\n",
       " 'AUT': 'Austria',\n",
       " 'AZE': 'Azerbaijan',\n",
       " 'BDI': 'Burundi',\n",
       " 'BEL': 'Belgium',\n",
       " 'BEN': 'Benin',\n",
       " 'BFA': 'Burkina Faso',\n",
       " 'BGD': 'Bangladesh',\n",
       " 'BGR': 'Bulgaria',\n",
       " 'BHR': 'Bahrain',\n",
       " 'BHS': 'The Bahamas',\n",
       " 'BIH': 'Bosnia and Herzegovina',\n",
       " 'BLM': 'Saint Barthelemy',\n",
       " 'BLR': 'Belarus',\n",
       " 'BLZ': 'Belize',\n",
       " 'BMU': 'Bermuda',\n",
       " 'BOL': 'Bolivia',\n",
       " 'BRA': 'Brazil',\n",
       " 'BRB': 'Barbados',\n",
       " 'BRN': 'Brunei',\n",
       " 'BTN': 'Bhutan',\n",
       " 'BWA': 'Botswana',\n",
       " 'CAF': 'Central African Republic',\n",
       " 'CAN': 'Canada',\n",
       " 'CHE': 'Switzerland',\n",
       " 'CHL': 'Chile',\n",
       " 'CHN': 'China',\n",
       " 'CIV': 'Ivory Coast',\n",
       " 'CMR': 'Cameroon',\n",
       " 'COD': 'Democratic Republic of the Congo',\n",
       " 'COG': 'Republic of Congo',\n",
       " 'COK': 'Cook Islands',\n",
       " 'COL': 'Colombia',\n",
       " 'COM': 'Comoros',\n",
       " 'CPV': 'Cape Verde',\n",
       " 'CRI': 'Costa Rica',\n",
       " 'CUB': 'Cuba',\n",
       " 'CUW': 'Curaçao',\n",
       " 'CYM': 'Cayman Islands',\n",
       " 'CYP': 'Cyprus',\n",
       " 'CZE': 'Czech Republic',\n",
       " 'DEU': 'Germany',\n",
       " 'DJI': 'Djibouti',\n",
       " 'DMA': 'Dominica',\n",
       " 'DNK': 'Denmark',\n",
       " 'DOM': 'Dominican Republic',\n",
       " 'DZA': 'Algeria',\n",
       " 'ECU': 'Ecuador',\n",
       " 'EGY': 'Egypt',\n",
       " 'ERI': 'Eritrea',\n",
       " 'ESP': 'Spain',\n",
       " 'EST': 'Estonia',\n",
       " 'ETH': 'Ethiopia',\n",
       " 'FIN': 'Finland',\n",
       " 'FJI': 'Fiji',\n",
       " 'FLK': 'Falkland Islands',\n",
       " 'FRA': 'France',\n",
       " 'FRO': 'Faroe Islands',\n",
       " 'FSM': 'Federated States of Micronesia',\n",
       " 'GAB': 'Gabon',\n",
       " 'GBR': 'United Kingdom',\n",
       " 'GEO': 'Georgia',\n",
       " 'GGY': 'Guernsey',\n",
       " 'GHA': 'Ghana',\n",
       " 'GIB': 'Gibraltar',\n",
       " 'GIN': 'Guinea',\n",
       " 'GMB': 'Gambia',\n",
       " 'GNB': 'Guinea Bissau',\n",
       " 'GNQ': 'Equatorial Guinea',\n",
       " 'GRC': 'Greece',\n",
       " 'GRD': 'Grenada',\n",
       " 'GRL': 'Greenland',\n",
       " 'GTM': 'Guatemala',\n",
       " 'GUM': 'Guam',\n",
       " 'GUY': 'Guyana',\n",
       " 'HKG': 'Hong Kong S.A.R.',\n",
       " 'HMD': 'Heard Island and McDonald Islands',\n",
       " 'HND': 'Honduras',\n",
       " 'HRV': 'Croatia',\n",
       " 'HTI': 'Haiti',\n",
       " 'HUN': 'Hungary',\n",
       " 'IDN': 'Indonesia',\n",
       " 'IMN': 'Isle of Man',\n",
       " 'IND': 'India',\n",
       " 'IOT': 'British Indian Ocean Territory',\n",
       " 'IRL': 'Ireland',\n",
       " 'IRN': 'Iran',\n",
       " 'IRQ': 'Iraq',\n",
       " 'ISL': 'Iceland',\n",
       " 'ISR': 'Israel',\n",
       " 'ITA': 'Italy',\n",
       " 'JAM': 'Jamaica',\n",
       " 'JEY': 'Jersey',\n",
       " 'JOR': 'Jordan',\n",
       " 'JPN': 'Japan',\n",
       " 'KAZ': 'Kazakhstan',\n",
       " 'KEN': 'Kenya',\n",
       " 'KGZ': 'Kyrgyzstan',\n",
       " 'KHM': 'Cambodia',\n",
       " 'KIR': 'Kiribati',\n",
       " 'KNA': 'Saint Kitts and Nevis',\n",
       " 'KOR': 'South Korea',\n",
       " 'KWT': 'Kuwait',\n",
       " 'LAO': 'Laos',\n",
       " 'LBN': 'Lebanon',\n",
       " 'LBR': 'Liberia',\n",
       " 'LBY': 'Libya',\n",
       " 'LCA': 'Saint Lucia',\n",
       " 'LIE': 'Liechtenstein',\n",
       " 'LKA': 'Sri Lanka',\n",
       " 'LSO': 'Lesotho',\n",
       " 'LTU': 'Lithuania',\n",
       " 'LUX': 'Luxembourg',\n",
       " 'LVA': 'Latvia',\n",
       " 'MAC': 'Macao S.A.R',\n",
       " 'MAF': 'Saint Martin',\n",
       " 'MAR': 'Morocco',\n",
       " 'MCO': 'Monaco',\n",
       " 'MDA': 'Moldova',\n",
       " 'MDG': 'Madagascar',\n",
       " 'MDV': 'Maldives',\n",
       " 'MEX': 'Mexico',\n",
       " 'MHL': 'Marshall Islands',\n",
       " 'MKD': 'Macedonia',\n",
       " 'MLI': 'Mali',\n",
       " 'MLT': 'Malta',\n",
       " 'MMR': 'Myanmar',\n",
       " 'MNE': 'Montenegro',\n",
       " 'MNG': 'Mongolia',\n",
       " 'MNP': 'Northern Mariana Islands',\n",
       " 'MOZ': 'Mozambique',\n",
       " 'MRT': 'Mauritania',\n",
       " 'MSR': 'Montserrat',\n",
       " 'MUS': 'Mauritius',\n",
       " 'MWI': 'Malawi',\n",
       " 'MYS': 'Malaysia',\n",
       " 'NAM': 'Namibia',\n",
       " 'NCL': 'New Caledonia',\n",
       " 'NER': 'Niger',\n",
       " 'NFK': 'Norfolk Island',\n",
       " 'NGA': 'Nigeria',\n",
       " 'NIC': 'Nicaragua',\n",
       " 'NIU': 'Niue',\n",
       " 'NLD': 'Netherlands',\n",
       " 'NOR': 'Norway',\n",
       " 'NPL': 'Nepal',\n",
       " 'NRU': 'Nauru',\n",
       " 'NZL': 'New Zealand',\n",
       " 'OMN': 'Oman',\n",
       " 'PAK': 'Pakistan',\n",
       " 'PAN': 'Panama',\n",
       " 'PCN': 'Pitcairn Islands',\n",
       " 'PER': 'Peru',\n",
       " 'PHL': 'Philippines',\n",
       " 'PLW': 'Palau',\n",
       " 'PNG': 'Papua New Guinea',\n",
       " 'POL': 'Poland',\n",
       " 'PRI': 'Puerto Rico',\n",
       " 'PRK': 'North Korea',\n",
       " 'PRT': 'Portugal',\n",
       " 'PRY': 'Paraguay',\n",
       " 'PSE': 'Palestine',\n",
       " 'PYF': 'French Polynesia',\n",
       " 'QAT': 'Qatar',\n",
       " 'ROU': 'Romania',\n",
       " 'RUS': 'Russia',\n",
       " 'RWA': 'Rwanda',\n",
       " 'ESH': 'Western Sahara',\n",
       " 'SAU': 'Saudi Arabia',\n",
       " 'SDN': 'Sudan',\n",
       " 'SSD': 'South Sudan',\n",
       " 'SEN': 'Senegal',\n",
       " 'SGP': 'Singapore',\n",
       " 'SGS': 'South Georgia and South Sandwich Islands',\n",
       " 'SHN': 'Saint Helena',\n",
       " 'SLB': 'Solomon Islands',\n",
       " 'SLE': 'Sierra Leone',\n",
       " 'SLV': 'El Salvador',\n",
       " 'SMR': 'San Marino',\n",
       " 'SOM': 'Somalia',\n",
       " 'SPM': 'Saint Pierre and Miquelon',\n",
       " 'SRB': 'Republic of Serbia',\n",
       " 'STP': 'Sao Tome and Principe',\n",
       " 'SUR': 'Suriname',\n",
       " 'SVK': 'Slovakia',\n",
       " 'SVN': 'Slovenia',\n",
       " 'SWE': 'Sweden',\n",
       " 'SWZ': 'Swaziland',\n",
       " 'SXM': 'Sint Maarten',\n",
       " 'SYC': 'Seychelles',\n",
       " 'SYR': 'Syria',\n",
       " 'TCA': 'Turks and Caicos Islands',\n",
       " 'TCD': 'Chad',\n",
       " 'TGO': 'Togo',\n",
       " 'THA': 'Thailand',\n",
       " 'TJK': 'Tajikistan',\n",
       " 'TKM': 'Turkmenistan',\n",
       " 'TLS': 'East Timor',\n",
       " 'TON': 'Tonga',\n",
       " 'TTO': 'Trinidad and Tobago',\n",
       " 'TUN': 'Tunisia',\n",
       " 'TUR': 'Turkey',\n",
       " 'TUV': 'Tuvalu',\n",
       " 'TWN': 'Taiwan',\n",
       " 'TZA': 'United Republic of Tanzania',\n",
       " 'UGA': 'Uganda',\n",
       " 'UKR': 'Ukraine',\n",
       " 'UMI': 'United States Minor Outlying Islands',\n",
       " 'URY': 'Uruguay',\n",
       " 'USA': 'United States of America',\n",
       " 'UZB': 'Uzbekistan',\n",
       " 'VAT': 'Vatican',\n",
       " 'VCT': 'Saint Vincent and the Grenadines',\n",
       " 'VEN': 'Venezuela',\n",
       " 'VGB': 'British Virgin Islands',\n",
       " 'VIR': 'United States Virgin Islands',\n",
       " 'VNM': 'Vietnam',\n",
       " 'VUT': 'Vanuatu',\n",
       " 'WLF': 'Wallis and Futuna',\n",
       " 'WSM': 'Samoa',\n",
       " 'YEM': 'Yemen',\n",
       " 'ZAF': 'South Africa',\n",
       " 'ZMB': 'Zambia',\n",
       " 'ZWE': 'Zimbabwe'}"
      ]
     },
     "execution_count": 11,
     "metadata": {},
     "output_type": "execute_result"
    }
   ],
   "source": [
    "country_code_name={}\n",
    "for i in range(len(geojson[\"features\"])):\n",
    "  # if geojson[\"features\"][i][\"properties\"][\"ISO_A3\"] not in df3['Code'].values:\n",
    "  country_code_name[geojson[\"features\"][i][\"properties\"]['ISO_A3']]=geojson[\"features\"][i][\"properties\"]['ADMIN'] \n",
    "      \n",
    "# len(country)   \n",
    "country_code_name "
   ]
  },
  {
   "cell_type": "markdown",
   "metadata": {},
   "source": [
    "I will make a cope of the data before I apply the rename function. This will allow me to keep the original data intact and make sure that I can revert back"
   ]
  },
  {
   "cell_type": "code",
   "execution_count": 12,
   "metadata": {},
   "outputs": [
    {
     "data": {
      "text/html": [
       "<div>\n",
       "<style scoped>\n",
       "    .dataframe tbody tr th:only-of-type {\n",
       "        vertical-align: middle;\n",
       "    }\n",
       "\n",
       "    .dataframe tbody tr th {\n",
       "        vertical-align: top;\n",
       "    }\n",
       "\n",
       "    .dataframe thead th {\n",
       "        text-align: right;\n",
       "    }\n",
       "</style>\n",
       "<table border=\"1\" class=\"dataframe\">\n",
       "  <thead>\n",
       "    <tr style=\"text-align: right;\">\n",
       "      <th></th>\n",
       "      <th>Entity</th>\n",
       "      <th>Code</th>\n",
       "      <th>Year</th>\n",
       "      <th>Internat_usage</th>\n",
       "      <th>Country</th>\n",
       "    </tr>\n",
       "  </thead>\n",
       "  <tbody>\n",
       "    <tr>\n",
       "      <th>6519</th>\n",
       "      <td>Tonga</td>\n",
       "      <td>TON</td>\n",
       "      <td>2015</td>\n",
       "      <td>38.651272</td>\n",
       "      <td>Tonga</td>\n",
       "    </tr>\n",
       "    <tr>\n",
       "      <th>5452</th>\n",
       "      <td>Russia</td>\n",
       "      <td>RUS</td>\n",
       "      <td>2000</td>\n",
       "      <td>1.977230</td>\n",
       "      <td>Russia</td>\n",
       "    </tr>\n",
       "    <tr>\n",
       "      <th>568</th>\n",
       "      <td>Belgium</td>\n",
       "      <td>BEL</td>\n",
       "      <td>2000</td>\n",
       "      <td>29.431692</td>\n",
       "      <td>Belgium</td>\n",
       "    </tr>\n",
       "  </tbody>\n",
       "</table>\n",
       "</div>"
      ],
      "text/plain": [
       "       Entity Code  Year  Internat_usage  Country\n",
       "6519    Tonga  TON  2015       38.651272    Tonga\n",
       "5452   Russia  RUS  2000        1.977230   Russia\n",
       "568   Belgium  BEL  2000       29.431692  Belgium"
      ]
     },
     "execution_count": 12,
     "metadata": {},
     "output_type": "execute_result"
    }
   ],
   "source": [
    "ds_copy=ds\n",
    "ds_copy[\"Country\"]=ds_copy['Code'].map(country_code_name)\n",
    "ds_copy.sample(3)"
   ]
  },
  {
   "cell_type": "markdown",
   "metadata": {},
   "source": [
    "Now I need to campier the country the are in the dataset und the counties in the geodata"
   ]
  },
  {
   "cell_type": "code",
   "execution_count": 20,
   "metadata": {},
   "outputs": [
    {
     "data": {
      "text/plain": [
       "{nan: 'Upper middle income', 'OWID_KOS': 'Kosovo', 'OWID_WRL': 'World'}"
      ]
     },
     "execution_count": 20,
     "metadata": {},
     "output_type": "execute_result"
    }
   ],
   "source": [
    "not_matsh={}\n",
    "for index, row in ds_copy.iterrows(): # Use iterrows() correctly\n",
    "    if row['Code'] not in country_code_name.keys():\n",
    "        not_matsh[row['Code']] = row['Entity']\n",
    "not_matsh      "
   ]
  },
  {
   "cell_type": "code",
   "execution_count": 22,
   "metadata": {},
   "outputs": [
    {
     "data": {
      "text/plain": [
       "{}"
      ]
     },
     "execution_count": 22,
     "metadata": {},
     "output_type": "execute_result"
    }
   ],
   "source": [
    "not_matsh2={}\n",
    "for index, value in enumerate(country_code_name): # Use iterrows() correctly\n",
    "    if row['Code'] not in ds_copy[\"Code\"].unique():\n",
    "        not_matsh2[index] = value\n",
    "not_matsh2"
   ]
  },
  {
   "cell_type": "markdown",
   "metadata": {},
   "source": [
    "the updated Country in the dataset to identify the countries"
   ]
  },
  {
   "cell_type": "code",
   "execution_count": 25,
   "metadata": {},
   "outputs": [
    {
     "data": {
      "text/plain": [
       "{'Africa Eastern and Southern',\n",
       " 'Africa Western and Central',\n",
       " 'Arab World',\n",
       " 'Bahamas',\n",
       " 'Caribbean Small States',\n",
       " 'Central Europe and the Baltics',\n",
       " 'Congo',\n",
       " \"Cote d'Ivoire\",\n",
       " 'Curacao',\n",
       " 'Czechia',\n",
       " 'Democratic Republic of Congo',\n",
       " 'Early-demographic dividend',\n",
       " 'East Asia & Pacific',\n",
       " 'East Asia & Pacific (IDA & IBRD)',\n",
       " 'East Asia & Pacific (excluding high income)',\n",
       " 'Eswatini',\n",
       " 'Euro area',\n",
       " 'Europe & Central Asia',\n",
       " 'Europe & Central Asia (IDA & IBRD)',\n",
       " 'Europe & Central Asia (excluding high income)',\n",
       " 'European Union',\n",
       " 'Faeroe Islands',\n",
       " 'Fragile and conflict affected situations',\n",
       " 'Guinea-Bissau',\n",
       " 'Heavily indebted poor countries (HIPC)',\n",
       " 'High income',\n",
       " 'Hong Kong',\n",
       " 'IBRD only',\n",
       " 'IDA & IBRD total',\n",
       " 'IDA blend',\n",
       " 'IDA only',\n",
       " 'IDA total',\n",
       " 'Kosovo',\n",
       " 'Late-demographic dividend',\n",
       " 'Latin America & Caribbean',\n",
       " 'Latin America & Caribbean (IDA & IBRD)',\n",
       " 'Latin America & Caribbean (excluding high income)',\n",
       " 'Least developed countries: UN classification',\n",
       " 'Low & middle income',\n",
       " 'Low income',\n",
       " 'Lower middle income',\n",
       " 'Macao',\n",
       " 'Micronesia (country)',\n",
       " 'Middle East & North Africa',\n",
       " 'Middle East & North Africa (IDA & IBRD)',\n",
       " 'Middle East & North Africa (excluding high income)',\n",
       " 'Middle income',\n",
       " 'North America',\n",
       " 'North Macedonia',\n",
       " 'OECD members',\n",
       " 'Other small states',\n",
       " 'Pacific island small states',\n",
       " 'Post-demographic dividend',\n",
       " 'Pre-demographic dividend',\n",
       " 'Serbia',\n",
       " 'Small states',\n",
       " 'South Asia',\n",
       " 'South Asia (IDA & IBRD)',\n",
       " 'Sub-Saharan Africa',\n",
       " 'Sub-Saharan Africa (IDA & IBRD)',\n",
       " 'Sub-Saharan Africa (excluding high income)',\n",
       " 'Tanzania',\n",
       " 'Timor',\n",
       " 'United States',\n",
       " 'Upper middle income',\n",
       " 'World'}"
      ]
     },
     "execution_count": 25,
     "metadata": {},
     "output_type": "execute_result"
    }
   ],
   "source": [
    "country_set = set(ds_copy['Country'].unique())\n",
    "entity_set = set(ds_copy['Entity'].unique())\n",
    "\n",
    "# Find elements in 'Country' but not in 'Entity'\n",
    "difference = entity_set - country_set\n",
    "\n",
    "# Print or further process the difference\n",
    "difference"
   ]
  },
  {
   "cell_type": "code",
   "execution_count": 26,
   "metadata": {},
   "outputs": [
    {
     "data": {
      "text/plain": [
       "66"
      ]
     },
     "execution_count": 26,
     "metadata": {},
     "output_type": "execute_result"
    }
   ],
   "source": [
    "len(difference)"
   ]
  },
  {
   "cell_type": "markdown",
   "metadata": {},
   "source": [
    "here are the country the are in geodata but there are't in the dataset"
   ]
  },
  {
   "cell_type": "code",
   "execution_count": 27,
   "metadata": {},
   "outputs": [
    {
     "data": {
      "text/plain": [
       "{'Akrotiri Sovereign Base Area',\n",
       " 'Aland',\n",
       " 'Anguilla',\n",
       " 'Antarctica',\n",
       " 'British Indian Ocean Territory',\n",
       " 'Cook Islands',\n",
       " 'Falkland Islands',\n",
       " 'French Southern and Antarctic Lands',\n",
       " 'Guernsey',\n",
       " 'Heard Island and McDonald Islands',\n",
       " 'Isle of Man',\n",
       " 'Jersey',\n",
       " 'Montserrat',\n",
       " 'Niue',\n",
       " 'Norfolk Island',\n",
       " 'Pitcairn Islands',\n",
       " 'Saint Barthelemy',\n",
       " 'Saint Helena',\n",
       " 'Saint Martin',\n",
       " 'Saint Pierre and Miquelon',\n",
       " 'Sint Maarten',\n",
       " 'South Georgia and South Sandwich Islands',\n",
       " 'Taiwan',\n",
       " 'United States Minor Outlying Islands',\n",
       " 'Vatican',\n",
       " 'Wallis and Futuna',\n",
       " 'Western Sahara'}"
      ]
     },
     "execution_count": 27,
     "metadata": {},
     "output_type": "execute_result"
    }
   ],
   "source": [
    "country_set = set(ds_copy['Country'].unique())\n",
    "entity_set = set(country_code_name.values())\n",
    "\n",
    "# Find elements in 'Country' but not in 'Entity'\n",
    "difference = entity_set - country_set\n",
    "\n",
    "# Print or further process the difference\n",
    "difference"
   ]
  },
  {
   "cell_type": "code",
   "execution_count": null,
   "metadata": {},
   "outputs": [
    {
     "data": {
      "text/html": [
       "<div>\n",
       "<style scoped>\n",
       "    .dataframe tbody tr th:only-of-type {\n",
       "        vertical-align: middle;\n",
       "    }\n",
       "\n",
       "    .dataframe tbody tr th {\n",
       "        vertical-align: top;\n",
       "    }\n",
       "\n",
       "    .dataframe thead th {\n",
       "        text-align: right;\n",
       "    }\n",
       "</style>\n",
       "<table border=\"1\" class=\"dataframe\">\n",
       "  <thead>\n",
       "    <tr style=\"text-align: right;\">\n",
       "      <th></th>\n",
       "      <th>Entity</th>\n",
       "      <th>Code</th>\n",
       "      <th>Year</th>\n",
       "      <th>Internat_usage</th>\n",
       "      <th>Country</th>\n",
       "    </tr>\n",
       "  </thead>\n",
       "  <tbody>\n",
       "  </tbody>\n",
       "</table>\n",
       "</div>"
      ],
      "text/plain": [
       "Empty DataFrame\n",
       "Columns: [Entity, Code, Year, Internat_usage, Country]\n",
       "Index: []"
      ]
     },
     "execution_count": 30,
     "metadata": {},
     "output_type": "execute_result"
    }
   ],
   "source": [
    "ds_copy[ds_copy['Country']==]"
   ]
  },
  {
   "cell_type": "code",
   "execution_count": 49,
   "metadata": {},
   "outputs": [
    {
     "ename": "KeyError",
     "evalue": "'Country'",
     "output_type": "error",
     "traceback": [
      "\u001b[1;31m---------------------------------------------------------------------------\u001b[0m",
      "\u001b[1;31mKeyError\u001b[0m                                  Traceback (most recent call last)",
      "File \u001b[1;32mc:\\Users\\Ammar\\.conda\\envs\\VIZ\\lib\\site-packages\\pandas\\core\\indexes\\base.py:3805\u001b[0m, in \u001b[0;36mIndex.get_loc\u001b[1;34m(self, key)\u001b[0m\n\u001b[0;32m   3804\u001b[0m \u001b[38;5;28;01mtry\u001b[39;00m:\n\u001b[1;32m-> 3805\u001b[0m     \u001b[38;5;28;01mreturn\u001b[39;00m \u001b[38;5;28;43mself\u001b[39;49m\u001b[38;5;241;43m.\u001b[39;49m\u001b[43m_engine\u001b[49m\u001b[38;5;241;43m.\u001b[39;49m\u001b[43mget_loc\u001b[49m\u001b[43m(\u001b[49m\u001b[43mcasted_key\u001b[49m\u001b[43m)\u001b[49m\n\u001b[0;32m   3806\u001b[0m \u001b[38;5;28;01mexcept\u001b[39;00m \u001b[38;5;167;01mKeyError\u001b[39;00m \u001b[38;5;28;01mas\u001b[39;00m err:\n",
      "File \u001b[1;32mindex.pyx:167\u001b[0m, in \u001b[0;36mpandas._libs.index.IndexEngine.get_loc\u001b[1;34m()\u001b[0m\n",
      "File \u001b[1;32mindex.pyx:196\u001b[0m, in \u001b[0;36mpandas._libs.index.IndexEngine.get_loc\u001b[1;34m()\u001b[0m\n",
      "File \u001b[1;32mpandas\\\\_libs\\\\hashtable_class_helper.pxi:7081\u001b[0m, in \u001b[0;36mpandas._libs.hashtable.PyObjectHashTable.get_item\u001b[1;34m()\u001b[0m\n",
      "File \u001b[1;32mpandas\\\\_libs\\\\hashtable_class_helper.pxi:7089\u001b[0m, in \u001b[0;36mpandas._libs.hashtable.PyObjectHashTable.get_item\u001b[1;34m()\u001b[0m\n",
      "\u001b[1;31mKeyError\u001b[0m: 'Country'",
      "\nThe above exception was the direct cause of the following exception:\n",
      "\u001b[1;31mKeyError\u001b[0m                                  Traceback (most recent call last)",
      "Cell \u001b[1;32mIn[49], line 1\u001b[0m\n\u001b[1;32m----> 1\u001b[0m \u001b[43mds_copy\u001b[49m\u001b[43m[\u001b[49m\u001b[38;5;124;43m'\u001b[39;49m\u001b[38;5;124;43mCountry\u001b[39;49m\u001b[38;5;124;43m'\u001b[39;49m\u001b[43m]\u001b[49m\u001b[38;5;241m.\u001b[39mvalue_counts()\u001b[38;5;241m.\u001b[39msort_values(ascending\u001b[38;5;241m=\u001b[39m\u001b[38;5;28;01mTrue\u001b[39;00m)\n",
      "File \u001b[1;32mc:\\Users\\Ammar\\.conda\\envs\\VIZ\\lib\\site-packages\\pandas\\core\\frame.py:4102\u001b[0m, in \u001b[0;36mDataFrame.__getitem__\u001b[1;34m(self, key)\u001b[0m\n\u001b[0;32m   4100\u001b[0m \u001b[38;5;28;01mif\u001b[39;00m \u001b[38;5;28mself\u001b[39m\u001b[38;5;241m.\u001b[39mcolumns\u001b[38;5;241m.\u001b[39mnlevels \u001b[38;5;241m>\u001b[39m \u001b[38;5;241m1\u001b[39m:\n\u001b[0;32m   4101\u001b[0m     \u001b[38;5;28;01mreturn\u001b[39;00m \u001b[38;5;28mself\u001b[39m\u001b[38;5;241m.\u001b[39m_getitem_multilevel(key)\n\u001b[1;32m-> 4102\u001b[0m indexer \u001b[38;5;241m=\u001b[39m \u001b[38;5;28;43mself\u001b[39;49m\u001b[38;5;241;43m.\u001b[39;49m\u001b[43mcolumns\u001b[49m\u001b[38;5;241;43m.\u001b[39;49m\u001b[43mget_loc\u001b[49m\u001b[43m(\u001b[49m\u001b[43mkey\u001b[49m\u001b[43m)\u001b[49m\n\u001b[0;32m   4103\u001b[0m \u001b[38;5;28;01mif\u001b[39;00m is_integer(indexer):\n\u001b[0;32m   4104\u001b[0m     indexer \u001b[38;5;241m=\u001b[39m [indexer]\n",
      "File \u001b[1;32mc:\\Users\\Ammar\\.conda\\envs\\VIZ\\lib\\site-packages\\pandas\\core\\indexes\\base.py:3812\u001b[0m, in \u001b[0;36mIndex.get_loc\u001b[1;34m(self, key)\u001b[0m\n\u001b[0;32m   3807\u001b[0m     \u001b[38;5;28;01mif\u001b[39;00m \u001b[38;5;28misinstance\u001b[39m(casted_key, \u001b[38;5;28mslice\u001b[39m) \u001b[38;5;129;01mor\u001b[39;00m (\n\u001b[0;32m   3808\u001b[0m         \u001b[38;5;28misinstance\u001b[39m(casted_key, abc\u001b[38;5;241m.\u001b[39mIterable)\n\u001b[0;32m   3809\u001b[0m         \u001b[38;5;129;01mand\u001b[39;00m \u001b[38;5;28many\u001b[39m(\u001b[38;5;28misinstance\u001b[39m(x, \u001b[38;5;28mslice\u001b[39m) \u001b[38;5;28;01mfor\u001b[39;00m x \u001b[38;5;129;01min\u001b[39;00m casted_key)\n\u001b[0;32m   3810\u001b[0m     ):\n\u001b[0;32m   3811\u001b[0m         \u001b[38;5;28;01mraise\u001b[39;00m InvalidIndexError(key)\n\u001b[1;32m-> 3812\u001b[0m     \u001b[38;5;28;01mraise\u001b[39;00m \u001b[38;5;167;01mKeyError\u001b[39;00m(key) \u001b[38;5;28;01mfrom\u001b[39;00m \u001b[38;5;21;01merr\u001b[39;00m\n\u001b[0;32m   3813\u001b[0m \u001b[38;5;28;01mexcept\u001b[39;00m \u001b[38;5;167;01mTypeError\u001b[39;00m:\n\u001b[0;32m   3814\u001b[0m     \u001b[38;5;66;03m# If we have a listlike key, _check_indexing_error will raise\u001b[39;00m\n\u001b[0;32m   3815\u001b[0m     \u001b[38;5;66;03m#  InvalidIndexError. Otherwise we fall through and re-raise\u001b[39;00m\n\u001b[0;32m   3816\u001b[0m     \u001b[38;5;66;03m#  the TypeError.\u001b[39;00m\n\u001b[0;32m   3817\u001b[0m     \u001b[38;5;28mself\u001b[39m\u001b[38;5;241m.\u001b[39m_check_indexing_error(key)\n",
      "\u001b[1;31mKeyError\u001b[0m: 'Country'"
     ]
    }
   ],
   "source": [
    "ds_copy['Country'].value_counts().sort_values(ascending=True)"
   ]
  },
  {
   "cell_type": "code",
   "execution_count": 39,
   "metadata": {},
   "outputs": [
    {
     "data": {
      "text/html": [
       "<div>\n",
       "<style scoped>\n",
       "    .dataframe tbody tr th:only-of-type {\n",
       "        vertical-align: middle;\n",
       "    }\n",
       "\n",
       "    .dataframe tbody tr th {\n",
       "        vertical-align: top;\n",
       "    }\n",
       "\n",
       "    .dataframe thead th {\n",
       "        text-align: right;\n",
       "    }\n",
       "</style>\n",
       "<table border=\"1\" class=\"dataframe\">\n",
       "  <thead>\n",
       "    <tr style=\"text-align: right;\">\n",
       "      <th></th>\n",
       "      <th>Entity</th>\n",
       "      <th>Code</th>\n",
       "      <th>Year</th>\n",
       "      <th>Internat_usage</th>\n",
       "      <th>Country</th>\n",
       "    </tr>\n",
       "  </thead>\n",
       "  <tbody>\n",
       "  </tbody>\n",
       "</table>\n",
       "</div>"
      ],
      "text/plain": [
       "Empty DataFrame\n",
       "Columns: [Entity, Code, Year, Internat_usage, Country]\n",
       "Index: []"
      ]
     },
     "execution_count": 39,
     "metadata": {},
     "output_type": "execute_result"
    }
   ],
   "source": [
    "ds_copy[ds_copy['Country']==\" \"]"
   ]
  },
  {
   "cell_type": "code",
   "execution_count": 47,
   "metadata": {},
   "outputs": [],
   "source": [
    "# ds_copy.drop(columns=['Entity'],inplace=True).rename({'Country':\"Entity\"})\n",
    "ds_copy.rename(columns={'Internat_usage':\"Internet_usage\",\"Country\":\"Entity\"},inplace=True)"
   ]
  },
  {
   "cell_type": "code",
   "execution_count": 48,
   "metadata": {},
   "outputs": [
    {
     "data": {
      "text/html": [
       "<div>\n",
       "<style scoped>\n",
       "    .dataframe tbody tr th:only-of-type {\n",
       "        vertical-align: middle;\n",
       "    }\n",
       "\n",
       "    .dataframe tbody tr th {\n",
       "        vertical-align: top;\n",
       "    }\n",
       "\n",
       "    .dataframe thead th {\n",
       "        text-align: right;\n",
       "    }\n",
       "</style>\n",
       "<table border=\"1\" class=\"dataframe\">\n",
       "  <thead>\n",
       "    <tr style=\"text-align: right;\">\n",
       "      <th></th>\n",
       "      <th>Code</th>\n",
       "      <th>Year</th>\n",
       "      <th>Internet_usage</th>\n",
       "      <th>Entity</th>\n",
       "    </tr>\n",
       "  </thead>\n",
       "  <tbody>\n",
       "    <tr>\n",
       "      <th>0</th>\n",
       "      <td>AFG</td>\n",
       "      <td>1990</td>\n",
       "      <td>0.0</td>\n",
       "      <td>Afghanistan</td>\n",
       "    </tr>\n",
       "    <tr>\n",
       "      <th>1</th>\n",
       "      <td>AFG</td>\n",
       "      <td>1991</td>\n",
       "      <td>0.0</td>\n",
       "      <td>Afghanistan</td>\n",
       "    </tr>\n",
       "    <tr>\n",
       "      <th>2</th>\n",
       "      <td>AFG</td>\n",
       "      <td>1992</td>\n",
       "      <td>0.0</td>\n",
       "      <td>Afghanistan</td>\n",
       "    </tr>\n",
       "    <tr>\n",
       "      <th>3</th>\n",
       "      <td>AFG</td>\n",
       "      <td>1993</td>\n",
       "      <td>0.0</td>\n",
       "      <td>Afghanistan</td>\n",
       "    </tr>\n",
       "    <tr>\n",
       "      <th>4</th>\n",
       "      <td>AFG</td>\n",
       "      <td>1994</td>\n",
       "      <td>0.0</td>\n",
       "      <td>Afghanistan</td>\n",
       "    </tr>\n",
       "  </tbody>\n",
       "</table>\n",
       "</div>"
      ],
      "text/plain": [
       "  Code  Year  Internet_usage       Entity\n",
       "0  AFG  1990             0.0  Afghanistan\n",
       "1  AFG  1991             0.0  Afghanistan\n",
       "2  AFG  1992             0.0  Afghanistan\n",
       "3  AFG  1993             0.0  Afghanistan\n",
       "4  AFG  1994             0.0  Afghanistan"
      ]
     },
     "execution_count": 48,
     "metadata": {},
     "output_type": "execute_result"
    }
   ],
   "source": [
    "ds_copy.head()"
   ]
  },
  {
   "cell_type": "markdown",
   "metadata": {},
   "source": [
    "I need to reorganized  the datafram structure "
   ]
  },
  {
   "cell_type": "code",
   "execution_count": 50,
   "metadata": {},
   "outputs": [],
   "source": [
    "ds_copy=ds_copy[[\"Entity\",\"Code\",\"Year\",\"Internet_usage\"]]"
   ]
  },
  {
   "cell_type": "code",
   "execution_count": 51,
   "metadata": {},
   "outputs": [
    {
     "data": {
      "text/html": [
       "<div>\n",
       "<style scoped>\n",
       "    .dataframe tbody tr th:only-of-type {\n",
       "        vertical-align: middle;\n",
       "    }\n",
       "\n",
       "    .dataframe tbody tr th {\n",
       "        vertical-align: top;\n",
       "    }\n",
       "\n",
       "    .dataframe thead th {\n",
       "        text-align: right;\n",
       "    }\n",
       "</style>\n",
       "<table border=\"1\" class=\"dataframe\">\n",
       "  <thead>\n",
       "    <tr style=\"text-align: right;\">\n",
       "      <th></th>\n",
       "      <th>Entity</th>\n",
       "      <th>Code</th>\n",
       "      <th>Year</th>\n",
       "      <th>Internet_usage</th>\n",
       "    </tr>\n",
       "  </thead>\n",
       "  <tbody>\n",
       "    <tr>\n",
       "      <th>0</th>\n",
       "      <td>Afghanistan</td>\n",
       "      <td>AFG</td>\n",
       "      <td>1990</td>\n",
       "      <td>0.0</td>\n",
       "    </tr>\n",
       "    <tr>\n",
       "      <th>1</th>\n",
       "      <td>Afghanistan</td>\n",
       "      <td>AFG</td>\n",
       "      <td>1991</td>\n",
       "      <td>0.0</td>\n",
       "    </tr>\n",
       "    <tr>\n",
       "      <th>2</th>\n",
       "      <td>Afghanistan</td>\n",
       "      <td>AFG</td>\n",
       "      <td>1992</td>\n",
       "      <td>0.0</td>\n",
       "    </tr>\n",
       "    <tr>\n",
       "      <th>3</th>\n",
       "      <td>Afghanistan</td>\n",
       "      <td>AFG</td>\n",
       "      <td>1993</td>\n",
       "      <td>0.0</td>\n",
       "    </tr>\n",
       "    <tr>\n",
       "      <th>4</th>\n",
       "      <td>Afghanistan</td>\n",
       "      <td>AFG</td>\n",
       "      <td>1994</td>\n",
       "      <td>0.0</td>\n",
       "    </tr>\n",
       "  </tbody>\n",
       "</table>\n",
       "</div>"
      ],
      "text/plain": [
       "        Entity Code  Year  Internet_usage\n",
       "0  Afghanistan  AFG  1990             0.0\n",
       "1  Afghanistan  AFG  1991             0.0\n",
       "2  Afghanistan  AFG  1992             0.0\n",
       "3  Afghanistan  AFG  1993             0.0\n",
       "4  Afghanistan  AFG  1994             0.0"
      ]
     },
     "execution_count": 51,
     "metadata": {},
     "output_type": "execute_result"
    }
   ],
   "source": [
    "ds_copy.head()"
   ]
  },
  {
   "cell_type": "code",
   "execution_count": 52,
   "metadata": {},
   "outputs": [
    {
     "name": "stdout",
     "output_type": "stream",
     "text": [
      "Requirement already satisfied: pycountry in c:\\users\\ammar\\.conda\\envs\\viz\\lib\\site-packages (24.6.1)\n",
      "Collecting pycountry_convert\n",
      "  Downloading pycountry_convert-0.7.2-py3-none-any.whl.metadata (7.2 kB)\n",
      "Collecting pprintpp>=0.3.0 (from pycountry_convert)\n",
      "  Downloading pprintpp-0.4.0-py2.py3-none-any.whl.metadata (7.9 kB)\n",
      "Requirement already satisfied: pycountry>=16.11.27.1 in c:\\users\\ammar\\.conda\\envs\\viz\\lib\\site-packages (from pycountry_convert) (24.6.1)\n",
      "Collecting pytest>=3.4.0 (from pycountry_convert)\n",
      "  Downloading pytest-8.3.3-py3-none-any.whl.metadata (7.5 kB)\n",
      "Collecting pytest-mock>=1.6.3 (from pycountry_convert)\n",
      "  Downloading pytest_mock-3.14.0-py3-none-any.whl.metadata (3.8 kB)\n",
      "Collecting pytest-cov>=2.5.1 (from pycountry_convert)\n",
      "  Downloading pytest_cov-6.0.0-py3-none-any.whl.metadata (27 kB)\n",
      "Collecting repoze.lru>=0.7 (from pycountry_convert)\n",
      "  Downloading repoze.lru-0.7-py3-none-any.whl.metadata (1.1 kB)\n",
      "Requirement already satisfied: wheel>=0.30.0 in c:\\users\\ammar\\.conda\\envs\\viz\\lib\\site-packages (from pycountry_convert) (0.44.0)\n",
      "Collecting iniconfig (from pytest>=3.4.0->pycountry_convert)\n",
      "  Downloading iniconfig-2.0.0-py3-none-any.whl.metadata (2.6 kB)\n",
      "Requirement already satisfied: packaging in c:\\users\\ammar\\.conda\\envs\\viz\\lib\\site-packages (from pytest>=3.4.0->pycountry_convert) (24.1)\n",
      "Collecting pluggy<2,>=1.5 (from pytest>=3.4.0->pycountry_convert)\n",
      "  Downloading pluggy-1.5.0-py3-none-any.whl.metadata (4.8 kB)\n",
      "Requirement already satisfied: exceptiongroup>=1.0.0rc8 in c:\\users\\ammar\\.conda\\envs\\viz\\lib\\site-packages (from pytest>=3.4.0->pycountry_convert) (1.2.0)\n",
      "Requirement already satisfied: tomli>=1 in c:\\users\\ammar\\.conda\\envs\\viz\\lib\\site-packages (from pytest>=3.4.0->pycountry_convert) (2.0.1)\n",
      "Requirement already satisfied: colorama in c:\\users\\ammar\\.conda\\envs\\viz\\lib\\site-packages (from pytest>=3.4.0->pycountry_convert) (0.4.6)\n",
      "Collecting coverage>=7.5 (from coverage[toml]>=7.5->pytest-cov>=2.5.1->pycountry_convert)\n",
      "  Downloading coverage-7.6.8-cp310-cp310-win_amd64.whl.metadata (8.4 kB)\n",
      "Downloading pycountry_convert-0.7.2-py3-none-any.whl (13 kB)\n",
      "Downloading pprintpp-0.4.0-py2.py3-none-any.whl (16 kB)\n",
      "Downloading pytest-8.3.3-py3-none-any.whl (342 kB)\n",
      "Downloading pytest_cov-6.0.0-py3-none-any.whl (22 kB)\n",
      "Downloading pytest_mock-3.14.0-py3-none-any.whl (9.9 kB)\n",
      "Downloading repoze.lru-0.7-py3-none-any.whl (10 kB)\n",
      "Downloading coverage-7.6.8-cp310-cp310-win_amd64.whl (210 kB)\n",
      "Downloading pluggy-1.5.0-py3-none-any.whl (20 kB)\n",
      "Downloading iniconfig-2.0.0-py3-none-any.whl (5.9 kB)\n",
      "Installing collected packages: repoze.lru, pprintpp, pluggy, iniconfig, coverage, pytest, pytest-mock, pytest-cov, pycountry_convert\n",
      "Successfully installed coverage-7.6.8 iniconfig-2.0.0 pluggy-1.5.0 pprintpp-0.4.0 pycountry_convert-0.7.2 pytest-8.3.3 pytest-cov-6.0.0 pytest-mock-3.14.0 repoze.lru-0.7\n"
     ]
    },
    {
     "data": {
      "text/plain": [
       "'North America'"
      ]
     },
     "execution_count": 52,
     "metadata": {},
     "output_type": "execute_result"
    }
   ],
   "source": [
    "!pip install pycountry\n",
    "!pip install pycountry_convert\n",
    "import pycountry\n",
    "import pycountry_convert as pc\n",
    "\n",
    "# Create a function to get the continent from a country code\n",
    "def get_continent(country_code):\n",
    "    try:\n",
    "        country_alpha2 = pycountry.countries.get(alpha_3=country_code).alpha_2\n",
    "        # Get the continent code using pycountry_convert\n",
    "        continent_code = pc.country_alpha2_to_continent_code(country_alpha2)\n",
    "        # Get the continent name from the continent code\n",
    "        continent_name = pc.convert_continent_code_to_continent_name(continent_code)\n",
    "        return continent_name\n",
    "    except (KeyError, AttributeError):\n",
    "        return 'Unknown'\n",
    "\n",
    "get_continent(\"USA\")"
   ]
  },
  {
   "cell_type": "code",
   "execution_count": 55,
   "metadata": {},
   "outputs": [
    {
     "data": {
      "text/html": [
       "<div>\n",
       "<style scoped>\n",
       "    .dataframe tbody tr th:only-of-type {\n",
       "        vertical-align: middle;\n",
       "    }\n",
       "\n",
       "    .dataframe tbody tr th {\n",
       "        vertical-align: top;\n",
       "    }\n",
       "\n",
       "    .dataframe thead th {\n",
       "        text-align: right;\n",
       "    }\n",
       "</style>\n",
       "<table border=\"1\" class=\"dataframe\">\n",
       "  <thead>\n",
       "    <tr style=\"text-align: right;\">\n",
       "      <th></th>\n",
       "      <th>Entity</th>\n",
       "      <th>Code</th>\n",
       "      <th>Year</th>\n",
       "      <th>Internet_usage</th>\n",
       "    </tr>\n",
       "  </thead>\n",
       "  <tbody>\n",
       "    <tr>\n",
       "      <th>0</th>\n",
       "      <td>Afghanistan</td>\n",
       "      <td>AFG</td>\n",
       "      <td>1990</td>\n",
       "      <td>0.0</td>\n",
       "    </tr>\n",
       "    <tr>\n",
       "      <th>1</th>\n",
       "      <td>Afghanistan</td>\n",
       "      <td>AFG</td>\n",
       "      <td>1991</td>\n",
       "      <td>0.0</td>\n",
       "    </tr>\n",
       "    <tr>\n",
       "      <th>2</th>\n",
       "      <td>Afghanistan</td>\n",
       "      <td>AFG</td>\n",
       "      <td>1992</td>\n",
       "      <td>0.0</td>\n",
       "    </tr>\n",
       "    <tr>\n",
       "      <th>3</th>\n",
       "      <td>Afghanistan</td>\n",
       "      <td>AFG</td>\n",
       "      <td>1993</td>\n",
       "      <td>0.0</td>\n",
       "    </tr>\n",
       "    <tr>\n",
       "      <th>4</th>\n",
       "      <td>Afghanistan</td>\n",
       "      <td>AFG</td>\n",
       "      <td>1994</td>\n",
       "      <td>0.0</td>\n",
       "    </tr>\n",
       "  </tbody>\n",
       "</table>\n",
       "</div>"
      ],
      "text/plain": [
       "        Entity Code  Year  Internet_usage\n",
       "0  Afghanistan  AFG  1990             0.0\n",
       "1  Afghanistan  AFG  1991             0.0\n",
       "2  Afghanistan  AFG  1992             0.0\n",
       "3  Afghanistan  AFG  1993             0.0\n",
       "4  Afghanistan  AFG  1994             0.0"
      ]
     },
     "execution_count": 55,
     "metadata": {},
     "output_type": "execute_result"
    }
   ],
   "source": [
    "ds_copy.head()"
   ]
  },
  {
   "cell_type": "code",
   "execution_count": 58,
   "metadata": {},
   "outputs": [
    {
     "data": {
      "text/plain": [
       "'North America'"
      ]
     },
     "execution_count": 58,
     "metadata": {},
     "output_type": "execute_result"
    }
   ],
   "source": [
    "def get_continent(country_code):\n",
    "    try:\n",
    "        country_alpha2 = pycountry.countries.get(alpha_3=country_code).alpha_2\n",
    "        # Get the continent code using pycountry_convert\n",
    "        continent_code = pc.country_alpha2_to_continent_code(country_alpha2)\n",
    "        # Get the continent name from the continent code\n",
    "        continent_name = pc.convert_continent_code_to_continent_name(continent_code)\n",
    "        return continent_name\n",
    "    except (KeyError, AttributeError):\n",
    "        return 'Unknown'\n",
    "\n",
    "get_continent(\"USA\")"
   ]
  },
  {
   "cell_type": "code",
   "execution_count": null,
   "metadata": {},
   "outputs": [],
   "source": [
    "ds_copy['Continent'] = ds_copy['Code'].apply(get_continent)\n"
   ]
  },
  {
   "cell_type": "code",
   "execution_count": 60,
   "metadata": {},
   "outputs": [
    {
     "data": {
      "text/html": [
       "<div>\n",
       "<style scoped>\n",
       "    .dataframe tbody tr th:only-of-type {\n",
       "        vertical-align: middle;\n",
       "    }\n",
       "\n",
       "    .dataframe tbody tr th {\n",
       "        vertical-align: top;\n",
       "    }\n",
       "\n",
       "    .dataframe thead th {\n",
       "        text-align: right;\n",
       "    }\n",
       "</style>\n",
       "<table border=\"1\" class=\"dataframe\">\n",
       "  <thead>\n",
       "    <tr style=\"text-align: right;\">\n",
       "      <th></th>\n",
       "      <th>Entity</th>\n",
       "      <th>Code</th>\n",
       "      <th>Year</th>\n",
       "      <th>Internet_usage</th>\n",
       "      <th>continent</th>\n",
       "    </tr>\n",
       "  </thead>\n",
       "  <tbody>\n",
       "    <tr>\n",
       "      <th>0</th>\n",
       "      <td>Afghanistan</td>\n",
       "      <td>AFG</td>\n",
       "      <td>1990</td>\n",
       "      <td>0.0</td>\n",
       "      <td>Asia</td>\n",
       "    </tr>\n",
       "    <tr>\n",
       "      <th>1</th>\n",
       "      <td>Afghanistan</td>\n",
       "      <td>AFG</td>\n",
       "      <td>1991</td>\n",
       "      <td>0.0</td>\n",
       "      <td>Asia</td>\n",
       "    </tr>\n",
       "    <tr>\n",
       "      <th>2</th>\n",
       "      <td>Afghanistan</td>\n",
       "      <td>AFG</td>\n",
       "      <td>1992</td>\n",
       "      <td>0.0</td>\n",
       "      <td>Asia</td>\n",
       "    </tr>\n",
       "    <tr>\n",
       "      <th>3</th>\n",
       "      <td>Afghanistan</td>\n",
       "      <td>AFG</td>\n",
       "      <td>1993</td>\n",
       "      <td>0.0</td>\n",
       "      <td>Asia</td>\n",
       "    </tr>\n",
       "    <tr>\n",
       "      <th>4</th>\n",
       "      <td>Afghanistan</td>\n",
       "      <td>AFG</td>\n",
       "      <td>1994</td>\n",
       "      <td>0.0</td>\n",
       "      <td>Asia</td>\n",
       "    </tr>\n",
       "  </tbody>\n",
       "</table>\n",
       "</div>"
      ],
      "text/plain": [
       "        Entity Code  Year  Internet_usage continent\n",
       "0  Afghanistan  AFG  1990             0.0      Asia\n",
       "1  Afghanistan  AFG  1991             0.0      Asia\n",
       "2  Afghanistan  AFG  1992             0.0      Asia\n",
       "3  Afghanistan  AFG  1993             0.0      Asia\n",
       "4  Afghanistan  AFG  1994             0.0      Asia"
      ]
     },
     "execution_count": 60,
     "metadata": {},
     "output_type": "execute_result"
    }
   ],
   "source": [
    "df_int=pd.read_csv(\"../data/raw/internet_usages_continent.csv\")\n",
    "df_int.head()"
   ]
  }
 ],
 "metadata": {
  "kernelspec": {
   "display_name": "VIZ",
   "language": "python",
   "name": "python3"
  },
  "language_info": {
   "codemirror_mode": {
    "name": "ipython",
    "version": 3
   },
   "file_extension": ".py",
   "mimetype": "text/x-python",
   "name": "python",
   "nbconvert_exporter": "python",
   "pygments_lexer": "ipython3",
   "version": "3.10.15"
  }
 },
 "nbformat": 4,
 "nbformat_minor": 2
}
